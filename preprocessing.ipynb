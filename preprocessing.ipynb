{
 "cells": [
  {
   "cell_type": "code",
   "execution_count": 1,
   "metadata": {},
   "outputs": [],
   "source": [
    "import re\n",
    "import nltk\n",
    "import pyreadr\n",
    "\n",
    "import pandas as pd"
   ]
  },
  {
   "cell_type": "code",
   "execution_count": 2,
   "metadata": {},
   "outputs": [],
   "source": [
    "\n",
    "# get nltk stopwords and remove apostrophes\n",
    "stopwords = [re.sub(\"'\", \"\", word) for word in nltk.corpus.stopwords.words(\"english\")]\n",
    "\n",
    "\n",
    "def preprocess_text(text: str) -> str:\n",
    "    \"\"\"Removes non-alphabetic characters, sets text to lower case, and removes stopwords.\"\"\"\n",
    "    text = text.lower()\n",
    "    text = re.sub(\"[^a-z ]+\", \"\", text)\n",
    "\n",
    "    tokens = str.split(text, \" \")\n",
    "    text = [word for word in tokens if word not in stopwords]\n",
    "    text = \" \".join(text)\n",
    "\n",
    "    return text\n",
    "\n",
    "\n"
   ]
  },
  {
   "cell_type": "code",
   "execution_count": 6,
   "metadata": {},
   "outputs": [],
   "source": [
    "speech_data = pyreadr.read_r(\"data/raw/Replication_HearingText/Data_speech.Rdata\")\n",
    "speech_data = speech_data[\"speech\"]#.sample(100000, random_state=0)\n",
    "\n",
    "speech_data[\"speech_preprocess\"] = speech_data[\"speech\"].apply(preprocess_text)\n",
    "\n",
    "pyreadr.write_rdata(\"data/interim/preprocessed_speech_1m.Rdata\", df=speech_data, df_name=\"speech\")\n"
   ]
  },
  {
   "cell_type": "code",
   "execution_count": 4,
   "metadata": {},
   "outputs": [
    {
     "data": {
      "text/html": [
       "<div>\n",
       "<style scoped>\n",
       "    .dataframe tbody tr th:only-of-type {\n",
       "        vertical-align: middle;\n",
       "    }\n",
       "\n",
       "    .dataframe tbody tr th {\n",
       "        vertical-align: top;\n",
       "    }\n",
       "\n",
       "    .dataframe thead th {\n",
       "        text-align: right;\n",
       "    }\n",
       "</style>\n",
       "<table border=\"1\" class=\"dataframe\">\n",
       "  <thead>\n",
       "    <tr style=\"text-align: right;\">\n",
       "      <th></th>\n",
       "      <th>speech</th>\n",
       "      <th>speech_preprocess</th>\n",
       "    </tr>\n",
       "  </thead>\n",
       "  <tbody>\n",
       "    <tr>\n",
       "      <th>521245</th>\n",
       "      <td>Thank you very much. And I apologize. I had a...</td>\n",
       "      <td>thank much apologize another meeting fact acr...</td>\n",
       "    </tr>\n",
       "    <tr>\n",
       "      <th>762455</th>\n",
       "      <td>Thank you very much, Mr. Miller, and I couldn'...</td>\n",
       "      <td>thank much mr miller agree know try specific p...</td>\n",
       "    </tr>\n",
       "    <tr>\n",
       "      <th>683958</th>\n",
       "      <td>Thank you, Madam Secretary and Admiral Mullen...</td>\n",
       "      <td>thank madam secretary admiral mullen today re...</td>\n",
       "    </tr>\n",
       "    <tr>\n",
       "      <th>291875</th>\n",
       "      <td>Thank you, Mr. Chairman. And it is nice to se...</td>\n",
       "      <td>thank mr chairman nice see mrs marinangel bac...</td>\n",
       "    </tr>\n",
       "    <tr>\n",
       "      <th>497926</th>\n",
       "      <td>Well, potentially they will be enticed by tha...</td>\n",
       "      <td>well potentially enticed assurance remain</td>\n",
       "    </tr>\n",
       "    <tr>\n",
       "      <th>...</th>\n",
       "      <td>...</td>\n",
       "      <td>...</td>\n",
       "    </tr>\n",
       "    <tr>\n",
       "      <th>456631</th>\n",
       "      <td>If you were talking to the local people liste...</td>\n",
       "      <td>talking local people listening media today ad...</td>\n",
       "    </tr>\n",
       "    <tr>\n",
       "      <th>248909</th>\n",
       "      <td>So how do you deal with the situations you're...</td>\n",
       "      <td>deal situations talking rules currently appli...</td>\n",
       "    </tr>\n",
       "    <tr>\n",
       "      <th>402159</th>\n",
       "      <td>OK. Well, I think that this is a productive h...</td>\n",
       "      <td>ok well think productive hearing open discuss...</td>\n",
       "    </tr>\n",
       "    <tr>\n",
       "      <th>832494</th>\n",
       "      <td>So first we reward them and then we push the ...</td>\n",
       "      <td>first reward push issue</td>\n",
       "    </tr>\n",
       "    <tr>\n",
       "      <th>766687</th>\n",
       "      <td>Thank you.     I would like to ask Mr. Auer, ...</td>\n",
       "      <td>thank     would like ask mr auer understand c...</td>\n",
       "    </tr>\n",
       "  </tbody>\n",
       "</table>\n",
       "<p>100000 rows × 2 columns</p>\n",
       "</div>"
      ],
      "text/plain": [
       "                                                   speech  \\\n",
       "521245   Thank you very much. And I apologize. I had a...   \n",
       "762455  Thank you very much, Mr. Miller, and I couldn'...   \n",
       "683958   Thank you, Madam Secretary and Admiral Mullen...   \n",
       "291875   Thank you, Mr. Chairman. And it is nice to se...   \n",
       "497926   Well, potentially they will be enticed by tha...   \n",
       "...                                                   ...   \n",
       "456631   If you were talking to the local people liste...   \n",
       "248909   So how do you deal with the situations you're...   \n",
       "402159   OK. Well, I think that this is a productive h...   \n",
       "832494   So first we reward them and then we push the ...   \n",
       "766687   Thank you.     I would like to ask Mr. Auer, ...   \n",
       "\n",
       "                                        speech_preprocess  \n",
       "521245   thank much apologize another meeting fact acr...  \n",
       "762455  thank much mr miller agree know try specific p...  \n",
       "683958   thank madam secretary admiral mullen today re...  \n",
       "291875   thank mr chairman nice see mrs marinangel bac...  \n",
       "497926          well potentially enticed assurance remain  \n",
       "...                                                   ...  \n",
       "456631   talking local people listening media today ad...  \n",
       "248909   deal situations talking rules currently appli...  \n",
       "402159   ok well think productive hearing open discuss...  \n",
       "832494                            first reward push issue  \n",
       "766687   thank     would like ask mr auer understand c...  \n",
       "\n",
       "[100000 rows x 2 columns]"
      ]
     },
     "execution_count": 4,
     "metadata": {},
     "output_type": "execute_result"
    }
   ],
   "source": [
    "\n",
    "speech_data[[\"speech\", \"speech_preprocess\"]]"
   ]
  },
  {
   "cell_type": "code",
   "execution_count": 5,
   "metadata": {},
   "outputs": [
    {
     "data": {
      "text/plain": [
       "1026677"
      ]
     },
     "execution_count": 5,
     "metadata": {},
     "output_type": "execute_result"
    }
   ],
   "source": [
    "speech_data = pyreadr.read_r(\"data/raw/Replication_HearingText/Data_speech.Rdata\")\n",
    "speech_data = speech_data[\"speech\"]\n",
    "\n",
    "len(speech_data)\n"
   ]
  },
  {
   "cell_type": "code",
   "execution_count": null,
   "metadata": {},
   "outputs": [],
   "source": []
  }
 ],
 "metadata": {
  "kernelspec": {
   "display_name": "Python 3",
   "language": "python",
   "name": "python3"
  },
  "language_info": {
   "codemirror_mode": {
    "name": "ipython",
    "version": 3
   },
   "file_extension": ".py",
   "mimetype": "text/x-python",
   "name": "python",
   "nbconvert_exporter": "python",
   "pygments_lexer": "ipython3",
   "version": "3.10.12"
  }
 },
 "nbformat": 4,
 "nbformat_minor": 2
}
