{
 "cells": [
  {
   "cell_type": "code",
   "execution_count": 34,
   "metadata": {},
   "outputs": [],
   "source": [
    "import re\n",
    "import nltk\n",
    "import pyreadr\n",
    "\n",
    "import pandas as pd"
   ]
  },
  {
   "cell_type": "code",
   "execution_count": 66,
   "metadata": {},
   "outputs": [],
   "source": [
    "\n",
    "# get nltk stopwords and remove apostrophes\n",
    "stopwords = [re.sub(\"'\", \"\", word) for word in nltk.corpus.stopwords.words(\"english\")]\n",
    "\n",
    "\n",
    "def preprocess_text(text: str) -> str:\n",
    "    \"\"\"Removes non-alphabetic characters, sets text to lower case, and removes stopwords.\"\"\"\n",
    "    text = text.lower()\n",
    "    text = re.sub(\"[^a-z ]+\", \"\", text)\n",
    "\n",
    "    tokens = str.split(text, \" \")\n",
    "    text = [word for word in tokens if word not in stopwords]\n",
    "    text = \" \".join(text)\n",
    "\n",
    "    return text\n",
    "\n",
    "\n"
   ]
  },
  {
   "cell_type": "code",
   "execution_count": 69,
   "metadata": {},
   "outputs": [],
   "source": [
    "result = pyreadr.read_r(\"Replication_HearingText/Data_speech.Rdata\")\n",
    "\n",
    "result = result[\"speech\"].head(n=10)"
   ]
  },
  {
   "cell_type": "code",
   "execution_count": 71,
   "metadata": {},
   "outputs": [
    {
     "data": {
      "text/html": [
       "<div>\n",
       "<style scoped>\n",
       "    .dataframe tbody tr th:only-of-type {\n",
       "        vertical-align: middle;\n",
       "    }\n",
       "\n",
       "    .dataframe tbody tr th {\n",
       "        vertical-align: top;\n",
       "    }\n",
       "\n",
       "    .dataframe thead th {\n",
       "        text-align: right;\n",
       "    }\n",
       "</style>\n",
       "<table border=\"1\" class=\"dataframe\">\n",
       "  <thead>\n",
       "    <tr style=\"text-align: right;\">\n",
       "      <th></th>\n",
       "      <th>speech</th>\n",
       "      <th>speech_preprocess</th>\n",
       "    </tr>\n",
       "  </thead>\n",
       "  <tbody>\n",
       "    <tr>\n",
       "      <th>0</th>\n",
       "      <td>Before we get to site: if a soldier was told ...</td>\n",
       "      <td>get site soldier told taking pb tablets would...</td>\n",
       "    </tr>\n",
       "    <tr>\n",
       "      <th>1</th>\n",
       "      <td>No, that is not the question I asked. I am al...</td>\n",
       "      <td>question asked allowed ask honest questions g...</td>\n",
       "    </tr>\n",
       "    <tr>\n",
       "      <th>2</th>\n",
       "      <td>Thank you very much.     Dr. Custis, what enf...</td>\n",
       "      <td>thank much     dr custis enforcement mechanis...</td>\n",
       "    </tr>\n",
       "    <tr>\n",
       "      <th>3</th>\n",
       "      <td>I wish I had the three of you go first, and t...</td>\n",
       "      <td>wish three go first way could make reference ...</td>\n",
       "    </tr>\n",
       "    <tr>\n",
       "      <th>4</th>\n",
       "      <td>Let me call on Mr. Sanders. Dr. Kizer, you wi...</td>\n",
       "      <td>let call mr sanders dr kizer chance respond q...</td>\n",
       "    </tr>\n",
       "    <tr>\n",
       "      <th>5</th>\n",
       "      <td>OK. In the committee's deliberations, did the...</td>\n",
       "      <td>ok committees deliberations interview doctors...</td>\n",
       "    </tr>\n",
       "    <tr>\n",
       "      <th>6</th>\n",
       "      <td>I asked a question. I just want an answer to ...</td>\n",
       "      <td>asked question want answer question tell list...</td>\n",
       "    </tr>\n",
       "    <tr>\n",
       "      <th>7</th>\n",
       "      <td>I will be happy to have you submit that, and ...</td>\n",
       "      <td>happy submit would ask va respond</td>\n",
       "    </tr>\n",
       "    <tr>\n",
       "      <th>8</th>\n",
       "      <td>In your testimony you mentioned something abo...</td>\n",
       "      <td>testimony mentioned something arbitrary year ...</td>\n",
       "    </tr>\n",
       "    <tr>\n",
       "      <th>9</th>\n",
       "      <td>If you feel they are stalling, what other act...</td>\n",
       "      <td>feel stalling action take committee eventuall...</td>\n",
       "    </tr>\n",
       "  </tbody>\n",
       "</table>\n",
       "</div>"
      ],
      "text/plain": [
       "                                              speech  \\\n",
       "0   Before we get to site: if a soldier was told ...   \n",
       "1   No, that is not the question I asked. I am al...   \n",
       "2   Thank you very much.     Dr. Custis, what enf...   \n",
       "3   I wish I had the three of you go first, and t...   \n",
       "4   Let me call on Mr. Sanders. Dr. Kizer, you wi...   \n",
       "5   OK. In the committee's deliberations, did the...   \n",
       "6   I asked a question. I just want an answer to ...   \n",
       "7   I will be happy to have you submit that, and ...   \n",
       "8   In your testimony you mentioned something abo...   \n",
       "9   If you feel they are stalling, what other act...   \n",
       "\n",
       "                                   speech_preprocess  \n",
       "0   get site soldier told taking pb tablets would...  \n",
       "1   question asked allowed ask honest questions g...  \n",
       "2   thank much     dr custis enforcement mechanis...  \n",
       "3   wish three go first way could make reference ...  \n",
       "4   let call mr sanders dr kizer chance respond q...  \n",
       "5   ok committees deliberations interview doctors...  \n",
       "6   asked question want answer question tell list...  \n",
       "7                  happy submit would ask va respond  \n",
       "8   testimony mentioned something arbitrary year ...  \n",
       "9   feel stalling action take committee eventuall...  "
      ]
     },
     "execution_count": 71,
     "metadata": {},
     "output_type": "execute_result"
    }
   ],
   "source": [
    "result[\"speech_preprocess\"] = result[\"speech\"].apply(preprocess_text)\n",
    "\n",
    "result[[\"speech\", \"speech_preprocess\"]]"
   ]
  },
  {
   "cell_type": "code",
   "execution_count": null,
   "metadata": {},
   "outputs": [],
   "source": []
  }
 ],
 "metadata": {
  "kernelspec": {
   "display_name": "Python 3",
   "language": "python",
   "name": "python3"
  },
  "language_info": {
   "codemirror_mode": {
    "name": "ipython",
    "version": 3
   },
   "file_extension": ".py",
   "mimetype": "text/x-python",
   "name": "python",
   "nbconvert_exporter": "python",
   "pygments_lexer": "ipython3",
   "version": "3.10.12"
  }
 },
 "nbformat": 4,
 "nbformat_minor": 2
}
